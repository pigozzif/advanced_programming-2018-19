{
 "cells": [
  {
   "cell_type": "code",
   "execution_count": 11,
   "metadata": {},
   "outputs": [],
   "source": [
    "#Exercise one\n",
    "\n",
    "def is_palindrome(string_var):\n",
    "    '''\n",
    "    returns True if string_var is palindrome, False otherwise\n",
    "    '''\n",
    "    return string_var == \"\".join(reversed(string_var))"
   ]
  },
  {
   "cell_type": "code",
   "execution_count": 2,
   "metadata": {},
   "outputs": [],
   "source": [
    "#Exercise two\n",
    "\n",
    "def histogram_letters(string_var):\n",
    "    '''\n",
    "    count how many times a letter is present in the string_var and returns a dict\n",
    "    '''\n",
    "    return {letter: string_var.count(letter) for letter in string_var}"
   ]
  },
  {
   "cell_type": "code",
   "execution_count": 85,
   "metadata": {},
   "outputs": [],
   "source": [
    "#Exercise three\n",
    "\n",
    "def get_most_frequent(list_var):\n",
    "    '''\n",
    "    returns a tuple with the most frequent object in the list with the corresponding number\n",
    "    '''\n",
    "    return sorted(histogram_letters(list_var).items(), key=lambda x: x[1])[-1]"
   ]
  },
  {
   "cell_type": "code",
   "execution_count": 31,
   "metadata": {},
   "outputs": [],
   "source": [
    "#Exercise four\n",
    "\n",
    "def which_duplicates(list_var):\n",
    "    '''\n",
    "    returns a dict containing the repeated objects and the number of repetitions\n",
    "    '''\n",
    "    return {key: value for key, value in histogram_letters(list_var).items() if value > 1}"
   ]
  },
  {
   "cell_type": "code",
   "execution_count": 75,
   "metadata": {},
   "outputs": [],
   "source": [
    "#Exercise five\n",
    "\n",
    "def compute_factorial(int_val):\n",
    "    '''\n",
    "    computes factorial of a number\n",
    "    '''\n",
    "    return 1 if int_val < 2 else int_val * compute_factorial(int_val - 1)"
   ]
  },
  {
   "cell_type": "code",
   "execution_count": 15,
   "metadata": {},
   "outputs": [],
   "source": [
    "#Exercise six\n",
    "\n",
    "def is_prime(int_val):\n",
    "    '''\n",
    "    returns True if int_val is prime, False otherwise\n",
    "    '''\n",
    "    return all([int_val % num for num in range(2, int_val // 2 + 1)])"
   ]
  }
 ],
 "metadata": {
  "kernelspec": {
   "display_name": "Python 3",
   "language": "python",
   "name": "python3"
  },
  "language_info": {
   "codemirror_mode": {
    "name": "ipython",
    "version": 3
   },
   "file_extension": ".py",
   "mimetype": "text/x-python",
   "name": "python",
   "nbconvert_exporter": "python",
   "pygments_lexer": "ipython3",
   "version": "3.7.0"
  }
 },
 "nbformat": 4,
 "nbformat_minor": 2
}
